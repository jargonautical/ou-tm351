{
 "metadata": {
  "name": "",
  "signature": "sha256:f49343e7afaf2264fc3784a467570061ca2d9de9e19c8e610f8dbdd4244e98f2"
 },
 "nbformat": 3,
 "nbformat_minor": 0,
 "worksheets": [
  {
   "cells": [
    {
     "cell_type": "heading",
     "level": 1,
     "metadata": {},
     "source": [
      "Federated Linked Data Demo"
     ]
    },
    {
     "cell_type": "markdown",
     "metadata": {},
     "source": [
      "One of the great promises of Linked Data is the ability to use common identifiers to run queries that pull in data elements from multiple data sources, something we might think of as akin to a distributed or federated JOIN.\n",
      "\n",
      "In [Federating SPARQL Queries Across Government Linked Data](http://johngoodwin225.wordpress.com/2014/03/22/federating-sparql-queries-across-government-linked-data/) and [Tell Me About Hampshire \u2013 Linking Government Data using SPARQL federation 2](http://johngoodwin225.wordpress.com/2014/03/23/tell-me-about-hamsphire-linking-government-data-using-sparql-federation-2/), the Ordnance Survey's Jon Goodwin describes how to run SPARQL queries across multiple sources. This notebook draws heavily on those articles."
     ]
    },
    {
     "cell_type": "code",
     "collapsed": false,
     "input": [
      "#Import the necessary packages\n",
      "from SPARQLWrapper import SPARQLWrapper, JSON\n",
      "\n",
      "#Add some helper functions\n",
      "def runQuery(endpoint,prefix,q):\n",
      "    ''' Run a SPARQL query with a declared prefix over a specified endpoint '''\n",
      "    sparql = SPARQLWrapper(endpoint)\n",
      "    sparql.setQuery(prefix+q)\n",
      "    sparql.setReturnFormat(JSON)\n",
      "    return sparql.query().convert()\n",
      "\n",
      "import pandas as pd\n",
      "\n",
      "def dict2df(results):\n",
      "    ''' Hack a function to flatten the SPARQL query results and return the column values '''\n",
      "    data=[]\n",
      "    for result in results[\"results\"][\"bindings\"]:\n",
      "        tmp={}\n",
      "        for el in result:\n",
      "            tmp[el]=result[el]['value']\n",
      "        data.append(tmp)\n",
      "\n",
      "    df = pd.DataFrame(data)\n",
      "    return df\n",
      "\n",
      "def dfResults(endpoint,prefix,q):\n",
      "    ''' Generate a data frame containing the results of running\n",
      "        a SPARQL query with a declared prefix over a specified endpoint '''\n",
      "    return dict2df( runQuery( endpoint, prefix, q ) )\n",
      "        \n",
      "def printQuery(results,limit=''):\n",
      "    ''' Print the results from the SPARQL query '''\n",
      "    resdata=results[\"results\"][\"bindings\"]\n",
      "    if limit!='': resdata=results[\"results\"][\"bindings\"][:limit]\n",
      "    for result in resdata:\n",
      "        for ans in result:\n",
      "            print('{0}: {1}'.format(ans,result[ans]['value']))\n",
      "        print()\n",
      "\n",
      "def printRunQuery(endpoint,prefix,q,limit=''):\n",
      "    ''' Print the results from the SPARQL query '''\n",
      "    results=runQuery(endpoint,prefix,q)\n",
      "    printQuery(results,limit)"
     ],
     "language": "python",
     "metadata": {},
     "outputs": []
    },
    {
     "cell_type": "markdown",
     "metadata": {},
     "source": [
      "We are going to make use of several endpoints in this demonstration, so we need to declare each of them separately."
     ]
    },
    {
     "cell_type": "code",
     "collapsed": false,
     "input": [
      "endpoint_envAgency='http://environment.data.gov.uk/sparql/bwq/query'"
     ],
     "language": "python",
     "metadata": {},
     "outputs": []
    },
    {
     "cell_type": "markdown",
     "metadata": {},
     "source": [
      "Let's try a simple query from the Environment Agency's Bathing Water Linked Data store to see what districts are covered."
     ]
    },
    {
     "cell_type": "code",
     "collapsed": false,
     "input": [
      "prefix='''\n",
      "'''\n",
      "\n",
      "q='''\n",
      "SELECT ?x ?name ?district\n",
      "WHERE {\n",
      "?x a <http://environment.data.gov.uk/def/bathing-water/BathingWater> .\n",
      "?x <http://www.w3.org/2000/01/rdf-schema#label> ?name .\n",
      "?x <http://statistics.data.gov.uk/def/administrative-geography/district> ?district .}\n",
      "'''\n",
      "\n",
      "df=dfResults(endpoint_envAgency,prefix,q)\n",
      "df[:5]"
     ],
     "language": "python",
     "metadata": {},
     "outputs": []
    },
    {
     "cell_type": "markdown",
     "metadata": {},
     "source": [
      "Notice that the district codes include identifiers that are Ordnance Survey identifiers..."
     ]
    },
    {
     "cell_type": "markdown",
     "metadata": {},
     "source": [
      "We can also query by name."
     ]
    },
    {
     "cell_type": "code",
     "collapsed": false,
     "input": [
      "prefix='''\n",
      "PREFIX rdfs: <http://www.w3.org/2000/01/rdf-schema#>\n",
      "PREFIX admingeo: <http://statistics.data.gov.uk/def/administrative-geography/>\n",
      "'''\n",
      "\n",
      "q='''\n",
      "SELECT ?x ?name ?district\n",
      "WHERE {\n",
      "    #?x rdfs:label \"Selsey\" .\n",
      "\n",
      "    ?x a <http://environment.data.gov.uk/def/bathing-water/BathingWater> .\n",
      "    ?x rdfs:label ?name .\n",
      "    ?x admingeo:district ?district .\n",
      "}\n",
      "'''\n",
      "\n",
      "printRunQuery(endpoint_envAgency,prefix,q,3)"
     ],
     "language": "python",
     "metadata": {},
     "outputs": []
    },
    {
     "cell_type": "markdown",
     "metadata": {},
     "source": [
      "Let's have a quick look at some Ordnance Survey Linked Data."
     ]
    },
    {
     "cell_type": "code",
     "collapsed": false,
     "input": [
      "#endpoint_os='http://data.ordnancesurvey.co.uk/datasets/os-linked-data/apis/sparql'\n",
      "endpoint_os='http://data.ordnancesurvey.co.uk/datasets/boundary-line/apis/sparql'"
     ],
     "language": "python",
     "metadata": {},
     "outputs": []
    },
    {
     "cell_type": "markdown",
     "metadata": {},
     "source": [
      "The OS identifier http://data.ordnancesurvey.co.uk/id/7000000000041421 corresponds to the South East region of the UK. We can query the Ordnance Survery endpoint to find other administrative regions contained within that area."
     ]
    },
    {
     "cell_type": "code",
     "collapsed": false,
     "input": [
      "prefix='''\n",
      "PREFIX rdfs: <http://www.w3.org/2000/01/rdf-schema#>\n",
      "PREFIX admingeo: <http://statistics.data.gov.uk/def/administrative-geography/>\n",
      "PREFIX ossr: <http://data.ordnancesurvey.co.uk/ontology/spatialrelations/>\n",
      "'''\n",
      "\n",
      "q='''\n",
      "SELECT ?district ?districtname\n",
      "WHERE {\n",
      "    ?district ossr:within <http://data.ordnancesurvey.co.uk/id/7000000000041421> .\n",
      "    ?district rdfs:label ?districtname .\n",
      "}\n",
      "'''\n",
      "\n",
      "df=dfResults(endpoint_os,prefix,q)\n",
      "df[:5]"
     ],
     "language": "python",
     "metadata": {},
     "outputs": []
    },
    {
     "cell_type": "code",
     "collapsed": false,
     "input": [
      "#What's the code for the Isle of Wight?\n",
      "for i in df[df['districtname']=='Isle of Wight']['district']: print(i)"
     ],
     "language": "python",
     "metadata": {},
     "outputs": []
    },
    {
     "cell_type": "markdown",
     "metadata": {},
     "source": [
      "If we look these up separately we see that one code (http://data.ordnancesurvey.co.uk/id/7000000000025195) refers to the Westminster constituency and the other (http://data.ordnancesurvey.co.uk/id/7000000000025469) to the Unitary Authority."
     ]
    },
    {
     "cell_type": "code",
     "collapsed": false,
     "input": [
      "#This suggests we could have asked a more direct question of the Ordnance Survey\n",
      "prefix='''\n",
      "PREFIX rdf: <http://www.w3.org/1999/02/22-rdf-syntax-ns#>\n",
      "PREFIX rdfs: <http://www.w3.org/2000/01/rdf-schema#>\n",
      "PREFIX admingeo: <http://statistics.data.gov.uk/def/administrative-geography/>\n",
      "PREFIX ossr: <http://data.ordnancesurvey.co.uk/ontology/spatialrelations/>\n",
      "PREFIX osadmingeo: <http://data.ordnancesurvey.co.uk/ontology/admingeo/>\n",
      "'''\n",
      "\n",
      "q='''\n",
      "SELECT ?district ?districtname ?type\n",
      "WHERE {\n",
      "    ?district rdfs:label \"Isle of Wight\" ;\n",
      "    rdf:type osadmingeo:UnitaryAuthority .\n",
      "}\n",
      "'''\n",
      "\n",
      "printRunQuery(endpoint_os,prefix,q)"
     ],
     "language": "python",
     "metadata": {},
     "outputs": []
    },
    {
     "cell_type": "code",
     "collapsed": false,
     "input": [
      "#7000000000002625\n",
      "q='''\n",
      "SELECT ?district\n",
      "WHERE {\n",
      "    ?district rdfs:label \"East Sussex\" .\n",
      "}\n",
      "'''\n",
      "\n",
      "printRunQuery(endpoint_os,prefix,q)"
     ],
     "language": "python",
     "metadata": {},
     "outputs": []
    },
    {
     "cell_type": "markdown",
     "metadata": {},
     "source": [
      "Let's see if the Environment Agency has any information about bathing water around the coast of East Sussex. One way would be to use the unitary authority identifier for this to anchor the search for areas that declare East Sussex as their administrative district."
     ]
    },
    {
     "cell_type": "code",
     "collapsed": false,
     "input": [
      "q='''\n",
      "SELECT ?x ?name ?districtname \n",
      "WHERE {\n",
      "\n",
      "    ?x <http://statistics.data.gov.uk/def/administrative-geography/district> <http://data.ordnancesurvey.co.uk/id/7000000000002625> .\n",
      "\n",
      "    ?x a <http://environment.data.gov.uk/def/bathing-water/BathingWater> .\n",
      "    ?x <http://www.w3.org/2000/01/rdf-schema#label> ?name .\n",
      "    ?x <http://statistics.data.gov.uk/def/administrative-geography/district> ?district .\n",
      "    \n",
      "    ?district <http://www.w3.org/2000/01/rdf-schema#label> ?districtname .\n",
      "}\n",
      "ORDER BY ?districtname\n",
      "'''\n",
      "\n",
      "runQuery(endpoint_envAgency,prefix,q)"
     ],
     "language": "python",
     "metadata": {},
     "outputs": []
    },
    {
     "cell_type": "markdown",
     "metadata": {},
     "source": [
      "Hmm.. no results...\n",
      "\n",
      "Note also that tt's probably easier to just query by name, as this example for the Isle of Wight shows."
     ]
    },
    {
     "cell_type": "code",
     "collapsed": false,
     "input": [
      "q='''\n",
      "SELECT ?x ?name ?districtname \n",
      "WHERE {\n",
      "\n",
      "    ?district <http://www.w3.org/2000/01/rdf-schema#label> 'Isle of Wight' .\n",
      "    \n",
      "    ?x a <http://environment.data.gov.uk/def/bathing-water/BathingWater> .\n",
      "    ?x <http://www.w3.org/2000/01/rdf-schema#label> ?name .\n",
      "    ?x <http://statistics.data.gov.uk/def/administrative-geography/district> ?district .\n",
      "    ?district <http://www.w3.org/2000/01/rdf-schema#label> ?districtname.   \n",
      "}\n",
      "ORDER BY ?districtname\n",
      "'''\n",
      "\n",
      "printRunQuery(endpoint_envAgency,prefix,q,3)"
     ],
     "language": "python",
     "metadata": {},
     "outputs": []
    },
    {
     "cell_type": "markdown",
     "metadata": {},
     "source": [
      "It seems that what we might need to do is search the Environment Agency for data about bathing water areas *within* East Sussex. To do that, we need to \"join\" queries onto both the Ordnance Survey and Environment Agency endpoints."
     ]
    },
    {
     "cell_type": "code",
     "collapsed": false,
     "input": [
      "q='''\n",
      "SELECT ?location ?districtname ?name ?sedimentname ?lat ?long\n",
      "WHERE {\n",
      "\n",
      "    SERVICE <http://data.ordnancesurvey.co.uk/datasets/boundary-line/apis/sparql> { \n",
      "\n",
      "        ?area rdfs:label \"East Sussex\".\n",
      "    \n",
      "        ?district ossr:within ?area.\n",
      "        ?district rdfs:label ?districtname.\n",
      "    }\n",
      "    \n",
      "    ?location a <http://environment.data.gov.uk/def/bathing-water/BathingWater> .\n",
      "    ?location <http://environment.data.gov.uk/def/bathing-water/sedimentTypesPresent> ?sediment .\n",
      "    ?location <http://statistics.data.gov.uk/def/administrative-geography/district> ?district .\n",
      "    ?location rdfs:label ?name.\n",
      "    ?sediment rdfs:label ?sedimentname.\n",
      "    \n",
      "    ?location <http://location.data.gov.uk/def/ef/SamplingPoint/samplingPoint> ?samplingpoint.\n",
      "    ?samplingpoint <http://www.w3.org/2003/01/geo/wgs84_pos#lat> ?lat.\n",
      "    ?samplingpoint <http://www.w3.org/2003/01/geo/wgs84_pos#long> ?long.\n",
      "\n",
      "     \n",
      "    FILTER(LANG(?sedimentname) = \"\" || LANGMATCHES(LANG(?sedimentname), \"en\"))\n",
      "    \n",
      "}\n",
      "ORDER BY ?districtname\n",
      "'''\n",
      "\n",
      "printRunQuery(endpoint_envAgency,prefix,q,5)"
     ],
     "language": "python",
     "metadata": {},
     "outputs": []
    },
    {
     "cell_type": "markdown",
     "metadata": {},
     "source": [
      "Just by the by, let's plot those points to see where the locations are situated on a map."
     ]
    },
    {
     "cell_type": "code",
     "collapsed": false,
     "input": [
      "#The master version of folium currently has an issue running on Python3\n",
      "#!pip3 install git+https://github.com/tbicr/folium.git@fixed#folium\n",
      "import folium\n",
      "folium.initialize_notebook()"
     ],
     "language": "python",
     "metadata": {},
     "outputs": []
    },
    {
     "cell_type": "code",
     "collapsed": false,
     "input": [
      "df=dfResults(endpoint_envAgency,prefix,q)\n",
      "df[:3]"
     ],
     "language": "python",
     "metadata": {},
     "outputs": []
    },
    {
     "cell_type": "code",
     "collapsed": false,
     "input": [
      "#Check that the lat and long values are numbers\n",
      "df.dtypes"
     ],
     "language": "python",
     "metadata": {},
     "outputs": []
    },
    {
     "cell_type": "code",
     "collapsed": false,
     "input": [
      "#Cast the lat and long values to floats\n",
      "df['lat']=df['lat'].astype(float)\n",
      "df['long']=df['long'].astype(float)\n",
      "\n",
      "#Find their mean values to centre the map\n",
      "latMean=df['lat'].mean()\n",
      "longMean=df['long'].mean()"
     ],
     "language": "python",
     "metadata": {},
     "outputs": []
    },
    {
     "cell_type": "code",
     "collapsed": false,
     "input": [
      "#Create the map with an appropriate zoom level, and centre it\n",
      "bathingwater = folium.Map(location=[latMean, longMean], zoom_start=10)\n",
      "\n",
      "#Iterate through the dataframe, adding each sample point as a marker on the map\n",
      "for ix,row in df[['name','lat','long','sedimentname']].iterrows():\n",
      "    bathingwater.simple_marker( location=[row['lat'],row['long']], popup=row['name'] )\n",
      "\n",
      "#Render the map\n",
      "bathingwater"
     ],
     "language": "python",
     "metadata": {},
     "outputs": []
    },
    {
     "cell_type": "markdown",
     "metadata": {},
     "source": [
      "As you can see, we can blend a variety of tools and techniques to help us make sense of the data and better understand it."
     ]
    },
    {
     "cell_type": "markdown",
     "metadata": {},
     "source": [
      "Here are a couple of other data sources relating to geography that may be linkable?\n",
      "\n",
      "- British Geological Survey http://data.bgs.ac.uk/\n"
     ]
    },
    {
     "cell_type": "heading",
     "level": 2,
     "metadata": {},
     "source": [
      "Looking At Local Administrative Data"
     ]
    },
    {
     "cell_type": "markdown",
     "metadata": {},
     "source": [
      "In this section, we'll show how a query similar to the one used in [Tell Me About Hampshire \u2013 Linking Government Data using SPARQL federation 2](http://johngoodwin225.wordpress.com/2014/03/23/tell-me-about-hamsphire-linking-government-data-using-sparql-federation-2/) can be pieced together."
     ]
    },
    {
     "cell_type": "markdown",
     "metadata": {},
     "source": [
      "The area we'll explore is the Isle of Wight. The following query applied to the Ordnance Survey endpoint gives us a list of administrative regions contained within the Isle of Wight."
     ]
    },
    {
     "cell_type": "code",
     "collapsed": false,
     "input": [
      "q='''\n",
      "SELECT ?districtname\n",
      "WHERE {\n",
      "\n",
      "    ?iw rdfs:label \"Isle of Wight\" ;\n",
      "        rdf:type osadmingeo:UnitaryAuthority .\n",
      "\n",
      "    ?district ossr:within ?iw .\n",
      "    ?district rdfs:label ?districtname.\n",
      "}\n",
      "'''\n",
      "\n",
      "printRunQuery(endpoint_os,prefix,q,5)"
     ],
     "language": "python",
     "metadata": {},
     "outputs": []
    },
    {
     "cell_type": "markdown",
     "metadata": {},
     "source": [
      "The next query shows how to pull in data from Open Data Communities, the Department for Communities and Local Government's (DCLG) Linked Data platfrom. In particular, let's pull back the URL for the website of the local authority for a specficied region and the council's IMD (Index of Multiple Deprivation) rank."
     ]
    },
    {
     "cell_type": "code",
     "collapsed": false,
     "input": [
      "#Open Data Communities\n",
      "endpoint_odc='http://opendatacommunities.org/sparql'\n",
      "\n",
      "q='''\n",
      "SELECT ?councilwebsite ?imdrank ?authority ?authorityname \n",
      "WHERE {\n",
      "\n",
      "    ?iw rdfs:label \"Isle of Wight\" ;\n",
      "        rdf:type osadmingeo:UnitaryAuthority .\n",
      "    ?s <http://purl.org/linked-data/sdmx/2009/dimension#refArea> ?iw .\n",
      "    ?s <http://opendatacommunities.org/def/IMD#IMD-rank> ?imdrank . \n",
      "\n",
      "\n",
      "    ?authority <http://opendatacommunities.org/def/local-government/governs> ?iw .\n",
      "    ?authority <http://xmlns.com/foaf/0.1/page> ?councilwebsite .\n",
      "    ?authority rdfs:label ?authorityname.\n",
      "}\n",
      "'''\n",
      "\n",
      "printRunQuery(endpoint_odc,prefix,q,5)"
     ],
     "language": "python",
     "metadata": {},
     "outputs": []
    },
    {
     "cell_type": "markdown",
     "metadata": {},
     "source": [
      "We can combine those two queries together in a single query, whose execution starts at one of the endpoints, in this case the Ordnance Survey endpoint. The `SERVICE` command than executes another query fragment on a remote endpoint, in this case the Open Data Communities endpoint."
     ]
    },
    {
     "cell_type": "code",
     "collapsed": false,
     "input": [
      "q='''\n",
      "SELECT ?districtname ?councilwebsite ?imdrank ?authority ?authorityname \n",
      "WHERE {\n",
      "\n",
      "    ?iw rdfs:label \"Isle of Wight\" ;\n",
      "        rdf:type osadmingeo:UnitaryAuthority .\n",
      "\n",
      "    ?district ossr:within ?iw .\n",
      "    ?district rdfs:label ?districtname.\n",
      "    \n",
      "    SERVICE <http://opendatacommunities.org/sparql> {\n",
      "\n",
      "        ?s <http://purl.org/linked-data/sdmx/2009/dimension#refArea> ?iw .\n",
      "        ?s <http://opendatacommunities.org/def/IMD#IMD-rank> ?imdrank . \n",
      "\n",
      "\n",
      "        ?authority <http://opendatacommunities.org/def/local-government/governs> ?iw .\n",
      "        ?authority <http://xmlns.com/foaf/0.1/page> ?councilwebsite .\n",
      "        ?authority rdfs:label ?authorityname.\n",
      "    \n",
      "    }\n",
      "}\n",
      "'''\n",
      "\n",
      "printRunQuery(endpoint_os,prefix,q,5)"
     ],
     "language": "python",
     "metadata": {},
     "outputs": []
    },
    {
     "cell_type": "markdown",
     "metadata": {},
     "source": [
      "As well as using OS administrative codes, the districts also have Office of National Statistics (ONS) identifiers. For example:"
     ]
    },
    {
     "cell_type": "code",
     "collapsed": false,
     "input": [
      "q='''\n",
      "SELECT ?districtname ?onsdist \n",
      "WHERE {\n",
      "\n",
      "    ?iw rdfs:label \"Isle of Wight\" ;\n",
      "        rdf:type osadmingeo:UnitaryAuthority .\n",
      "\n",
      "    ?district ossr:within ?iw .\n",
      "    ?district rdfs:label ?districtname.\n",
      "    ?district <http://www.w3.org/2002/07/owl#sameAs> ?onsdist .\n",
      "}\n",
      "'''\n",
      "printRunQuery(endpoint_os,prefix,q,5)"
     ],
     "language": "python",
     "metadata": {},
     "outputs": []
    },
    {
     "cell_type": "markdown",
     "metadata": {},
     "source": [
      "Let's see what we can find out about a district from the ONS open Linked Data endpoint."
     ]
    },
    {
     "cell_type": "code",
     "collapsed": false,
     "input": [
      "endpoint_ons='http://statistics.data.gov.uk/sparql'\n",
      "\n",
      "q='''\n",
      "SELECT ?districtname ?x ?y\n",
      "WHERE {\n",
      "    \n",
      "    <http://statistics.data.gov.uk/id/statistical-geography/E04001302> ?x ?y ;\n",
      "        rdfs:label ?districtname\n",
      "}\n",
      "'''\n",
      "\n",
      "runQuery(endpoint_ons,prefix,q)"
     ],
     "language": "python",
     "metadata": {},
     "outputs": []
    },
    {
     "cell_type": "markdown",
     "metadata": {},
     "source": [
      "We can now add this further element to our compund, federated query, using *another* `SERVICE` command to run this part of the query via the ONS endpoint."
     ]
    },
    {
     "cell_type": "code",
     "collapsed": false,
     "input": [
      "q='''\n",
      "SELECT ?districtname ?councilwebsite ?imdrank ?authority ?authorityname ?changeorder ?onsdist ?onscode\n",
      "WHERE {\n",
      "\n",
      "    ?iw rdfs:label \"Isle of Wight\" ;\n",
      "        rdf:type osadmingeo:UnitaryAuthority .\n",
      "\n",
      "    ?district ossr:within ?iw .\n",
      "    ?district rdfs:label ?districtname.\n",
      "    \n",
      "    SERVICE <http://opendatacommunities.org/sparql> {\n",
      "\n",
      "        ?s <http://purl.org/linked-data/sdmx/2009/dimension#refArea> ?iw .\n",
      "        ?s <http://opendatacommunities.org/def/IMD#IMD-rank> ?imdrank . \n",
      "\n",
      "\n",
      "        ?authority <http://opendatacommunities.org/def/local-government/governs> ?iw .\n",
      "        ?authority <http://xmlns.com/foaf/0.1/page> ?councilwebsite .\n",
      "        ?authority rdfs:label ?authorityname.\n",
      "    \n",
      "    }\n",
      "    \n",
      "    ?district <http://www.w3.org/2002/07/owl#sameAs> ?onsdist\n",
      "\n",
      "    SERVICE <http://statistics.data.gov.uk/sparql> {\n",
      "        ?onsdist <http://statistics.data.gov.uk/def/boundary-change/originatingChangeOrder> ?changeorder .\n",
      "        ?onsdist <http://statistics.data.gov.uk/def/boundary-change/operativedate> ?opdate ;\n",
      "            <http://www.w3.org/2004/02/skos/core#notation> ?onscode.\n",
      "        FILTER (isURI(?changeorder))\n",
      "    }\n",
      " \n",
      "}\n",
      "'''\n",
      "\n",
      "printRunQuery(endpoint_os,prefix,q,5)"
     ],
     "language": "python",
     "metadata": {},
     "outputs": []
    },
    {
     "cell_type": "markdown",
     "metadata": {},
     "source": [
      "For me, the first time I saw a demonstration of the `SERVICE` invocation, the promise of Linked Data started to make more sense..."
     ]
    }
   ],
   "metadata": {}
  }
 ]
}