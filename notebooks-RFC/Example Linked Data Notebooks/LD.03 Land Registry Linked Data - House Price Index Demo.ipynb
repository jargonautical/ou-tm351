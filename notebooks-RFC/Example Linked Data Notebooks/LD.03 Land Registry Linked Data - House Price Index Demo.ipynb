{
 "metadata": {
  "name": "",
  "signature": "sha256:2c29d3ea88fb6aa5e368e2781c755efe5bf8c41bdf63eb8856fee35039ba7301"
 },
 "nbformat": 3,
 "nbformat_minor": 0,
 "worksheets": [
  {
   "cells": [
    {
     "cell_type": "heading",
     "level": 1,
     "metadata": {},
     "source": [
      "Land Registry Linked Data - House Price Index Demo"
     ]
    },
    {
     "cell_type": "markdown",
     "metadata": {},
     "source": [
      "This notebook demonstrates a quick investigation into house price index inflation on the Isle of Wight.\n",
      "\n",
      "The data will be pulled from the Land Registry open Linked Data datastore (http://landregistry.data.gov.uk/)."
     ]
    },
    {
     "cell_type": "code",
     "collapsed": false,
     "input": [
      "#Import the necessary packages\n",
      "#!pip3 import SPARQLWrapper\n",
      "\n",
      "from SPARQLWrapper import SPARQLWrapper, JSON\n",
      "\n",
      "#Add some helper functions\n",
      "def runQuery(endpoint,prefix,q):\n",
      "    ''' Run a SPARQL query with a declared prefix over a specified endpoint '''\n",
      "    sparql = SPARQLWrapper(endpoint)\n",
      "    sparql.setQuery(prefix+q)\n",
      "    sparql.setReturnFormat(JSON)\n",
      "    return sparql.query().convert()\n",
      "\n",
      "import pandas as pd\n",
      "\n",
      "def dict2df(results):\n",
      "    ''' Hack a function to flatten the SPARQL query results and return the column values '''\n",
      "    data=[]\n",
      "    for result in results[\"results\"][\"bindings\"]:\n",
      "        tmp={}\n",
      "        for el in result:\n",
      "            tmp[el]=result[el]['value']\n",
      "        data.append(tmp)\n",
      "\n",
      "    df = pd.DataFrame(data)\n",
      "    return df\n",
      "\n",
      "def dfResults(endpoint,prefix,q):\n",
      "    ''' Generate a data frame containing the results of running\n",
      "        a SPARQL query with a declared prefix over a specified endpoint '''\n",
      "    return dict2df( runQuery( endpoint, prefix, q ) )\n",
      "        \n",
      "def printQuery(results,limit=''):\n",
      "    ''' Print the results from the SPARQL query '''\n",
      "    resdata=results[\"results\"][\"bindings\"]\n",
      "    if limit!='': resdata=results[\"results\"][\"bindings\"][:limit]\n",
      "    for result in resdata:\n",
      "        for ans in result:\n",
      "            print('{0}: {1}'.format(ans,result[ans]['value']))\n",
      "        print()\n",
      "\n",
      "def printRunQuery(endpoint,prefix,q,limit=''):\n",
      "    ''' Print the results from the SPARQL query '''\n",
      "    results=runQuery(endpoint,prefix,q)\n",
      "    printQuery(results,limit)"
     ],
     "language": "python",
     "metadata": {},
     "outputs": []
    },
    {
     "cell_type": "markdown",
     "metadata": {},
     "source": [
      "The first thing we need to do is set up the endpoint."
     ]
    },
    {
     "cell_type": "code",
     "collapsed": false,
     "input": [
      "endpoint_landreg='http://landregistry.data.gov.uk/landregistry/query'"
     ],
     "language": "python",
     "metadata": {},
     "outputs": []
    },
    {
     "cell_type": "markdown",
     "metadata": {},
     "source": [
      "In this notebook, we will be querying the Land Registry's *[House Price Index data](http://www.landregistry.gov.uk/public/house-prices-and-sales/about-hpi)* [[data definition](http://landregistry.data.gov.uk/def/hpi)], which describes \"average price, sales volumes and property type for a specified location over a defined period of time since 1995\"."
     ]
    },
    {
     "cell_type": "code",
     "collapsed": false,
     "input": [
      "#The core of this query is based on an example query from http://landregistry.data.gov.uk/app/hpi/qonsole\n",
      "prefix_lr='''\n",
      "PREFIX rdf: <http://www.w3.org/1999/02/22-rdf-syntax-ns#>\n",
      "PREFIX rdfs: <http://www.w3.org/2000/01/rdf-schema#>\n",
      "PREFIX owl: <http://www.w3.org/2002/07/owl#>\n",
      "PREFIX xsd: <http://www.w3.org/2001/XMLSchema#>\n",
      "PREFIX sr: <http://data.ordnancesurvey.co.uk/ontology/spatialrelations/>\n",
      "PREFIX lrhpi: <http://landregistry.data.gov.uk/def/hpi/>\n",
      "PREFIX lrppi: <http://landregistry.data.gov.uk/def/ppi/>\n",
      "PREFIX skos: <http://www.w3.org/2004/02/skos/core#>\n",
      "PREFIX lrcommon: <http://landregistry.data.gov.uk/def/common/>\n",
      "'''\n",
      "q='''\n",
      "SELECT ?index ?regionName ?yearmonth ?indexr ?region ?avgPriceAll ?avgDetached\n",
      "  ?avgSemi ?avgFlats ?avgTerraced ?annual ?volume {\n",
      "\n",
      "  ?region rdfs:label ?regionName.\n",
      "  \n",
      "  ?region rdfs:label \"Isle of Wight\"@en.\n",
      "\n",
      "  #If you don't know the name of the region, you can anchor the query against an Ordnance Survey administrative code\n",
      "  #?region <http://www.w3.org/2002/07/owl#sameAs> <http://data.ordnancesurvey.co.uk/id/7000000000025469>.\n",
      "\n",
      "  ?index a <http://landregistry.data.gov.uk/def/hpi/MonthlyIndicesByRegion>.\n",
      "  ?index <http://landregistry.data.gov.uk/def/hpi/refRegion> ?region.\n",
      "  ?index\n",
      "    lrhpi:refRegion ?regionURI ;\n",
      "    lrhpi:indicesSASM ?indexr ;\n",
      "    lrhpi:refPeriod ?yearmonth ;\n",
      "    lrhpi:averagePricesSASM ?avgPriceAll ;\n",
      "    lrhpi:monthlyChange ?monthly ;\n",
      "    lrhpi:averagePricesDetachedSASM ?avgDetached ;\n",
      "    lrhpi:averagePricesSemiDetachedSASM ?avgSemi ;\n",
      "    lrhpi:averagePricesFlatMaisonetteSASM ?avgFlats ;\n",
      "    lrhpi:averagePricesTerracedSASM ?avgTerraced .\n",
      "    \n",
      "    FILTER(LANG(?regionName ) = \"\" || LANGMATCHES(LANG(?regionName), \"en\"))\n",
      "}\n",
      "'''\n",
      "\n",
      "df=dfResults(endpoint_landreg,prefix_lr,q)\n",
      "df[:5]"
     ],
     "language": "python",
     "metadata": {},
     "outputs": []
    },
    {
     "cell_type": "markdown",
     "metadata": {},
     "source": [
      "It could be useful to cast the `yearmonth` column to a date. By default, the first of the month will be the assigned data, but a little bit of jiggery pokery can reassign it to the last day of the month."
     ]
    },
    {
     "cell_type": "code",
     "collapsed": false,
     "input": [
      "df['dt']=pd.to_datetime(df.yearmonth,format='%Y-%m')\n",
      "df.set_index('dt',inplace=True)\n",
      "\n",
      "#Set the date to be the end of the month\n",
      "#via http://stackoverflow.com/a/18233876/454773\n",
      "df=df.to_period('M').to_timestamp('M')\n",
      "df[:3]"
     ],
     "language": "python",
     "metadata": {},
     "outputs": []
    },
    {
     "cell_type": "markdown",
     "metadata": {},
     "source": [
      "Having got lots of data as a time series, it would be quite nice to be able to plot the values as a line chart. A good library for going this is `ggplot`. To make things easier when using `ggplot`, let's reassign the index column as a non-index column."
     ]
    },
    {
     "cell_type": "code",
     "collapsed": false,
     "input": [
      "df.reset_index(inplace=True)\n",
      "df[:3]"
     ],
     "language": "python",
     "metadata": {},
     "outputs": []
    },
    {
     "cell_type": "markdown",
     "metadata": {},
     "source": [
      "Import the `ggplot` library."
     ]
    },
    {
     "cell_type": "code",
     "collapsed": false,
     "input": [
      "#!pip3 install git+https://github.com/tbicr/folium.git@fixed#folium\n",
      "from ggplot import *"
     ],
     "language": "python",
     "metadata": {},
     "outputs": []
    },
    {
     "cell_type": "markdown",
     "metadata": {},
     "source": [
      "Let's do a test plot..."
     ]
    },
    {
     "cell_type": "code",
     "collapsed": false,
     "input": [
      "ggplot(df,aes(x='dt',y='avgDetached'))+geom_line()"
     ],
     "language": "python",
     "metadata": {},
     "outputs": []
    },
    {
     "cell_type": "markdown",
     "metadata": {},
     "source": [
      "One of the nice features of `ggplot` is that we can easily generate charts using different coloured lines for data from different groups, *if the data is in the right shape*.\n",
      "\n",
      "At the moment, we have data relating to the average price of different types of housing in different columns."
     ]
    },
    {
     "cell_type": "code",
     "collapsed": false,
     "input": [
      "df.columns.values"
     ],
     "language": "python",
     "metadata": {},
     "outputs": []
    },
    {
     "cell_type": "markdown",
     "metadata": {},
     "source": [
      "If we reshape the data from this *wide* format to a *long* format with a single value column and a column identifying the housing class associated with that average price, we can easily plot all the average prices from a single `ggplot` command.\n",
      "\n",
      "So let's reshape the data..."
     ]
    },
    {
     "cell_type": "code",
     "collapsed": false,
     "input": [
      "df_melt=pd.melt(df,value_vars=['avgDetached', 'avgFlats', 'avgPriceAll', 'avgSemi',\n",
      "       'avgTerraced'],id_vars='dt')\n",
      "df_melt[:3]"
     ],
     "language": "python",
     "metadata": {},
     "outputs": []
    },
    {
     "cell_type": "markdown",
     "metadata": {},
     "source": [
      "And now plotting it is a simple matter."
     ]
    },
    {
     "cell_type": "code",
     "collapsed": false,
     "input": [
      "ggplot(df_melt,aes(x='dt',y='value',colour='variable'))+geom_line()"
     ],
     "language": "python",
     "metadata": {},
     "outputs": []
    },
    {
     "cell_type": "markdown",
     "metadata": {},
     "source": [
      "So there we have it, a quick demo of how to get average house price time series data for a particular region from the Land Registry Linked Data platform, tidy it a little and reshape it using the Python *pandas* library, and then plot it using *ggplot*.\n",
      "\n",
      "And if you want an interactive Javascript version of the chart? Simply call on *mpld3* which re-renders matplotlib charts (which underwrite *ggplot* charts, for example), as interactive d3.js charts..."
     ]
    },
    {
     "cell_type": "code",
     "collapsed": false,
     "input": [
      "#http://mpld3.github.io/\n",
      "#!pip3 install mpld3\n",
      "import mpld3\n",
      "#Running the following command means charts generated in this notebook henceforth will be rendered using D3.js \n",
      "mpld3.enable_notebook()\n",
      "\n",
      "\n",
      "ggplot(df_melt,aes(x='dt',y='value',colour='variable'))+geom_line()"
     ],
     "language": "python",
     "metadata": {},
     "outputs": []
    },
    {
     "cell_type": "markdown",
     "metadata": {},
     "source": [
      "If you hover over the chart you should see an interactive toolbar pop up bottom left that will let you zoom in on, and pan over, the chart.\n",
      "\n",
      "Magic, eh?"
     ]
    },
    {
     "cell_type": "heading",
     "level": 2,
     "metadata": {},
     "source": [
      "What Next?"
     ]
    },
    {
     "cell_type": "markdown",
     "metadata": {},
     "source": [
      "As well as House Price Index data, the Land Registry Linked Data platform also contains data on:\n",
      "\n",
      "- *[Price Paid Data](http://www.landregistry.gov.uk/market-trend-data/public-data/price-paid-faq)* [[data definition](http://landregistry.data.gov.uk/def/ppi)], a historical record dataing back to January 1995 of \"the residential property sales in England and Wales that are lodged with [the Land Registry] for registration\". That is, this dataset tracks the prices paid for individual residential properties since January 1995.\n",
      "- *Transaction Data* [[data definition](http://landregistry.data.gov.uk/data/trans/applications)] dating back to December 2011.\n",
      "\n",
      "The *Price Paid Dataset* might be a good candidate for a data investigation exploring the volumne and value of house sales in a particular area."
     ]
    }
   ],
   "metadata": {}
  }
 ]
}